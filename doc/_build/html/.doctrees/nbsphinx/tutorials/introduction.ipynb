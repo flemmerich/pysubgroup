{
 "cells": [
  {
   "cell_type": "markdown",
   "metadata": {},
   "source": [
    "# Pysubgroup\n",
    "\n",
    "**pysubgroup** is a Python package that enables subgroup discovery in Python+pandas (scipy stack) data analysis environment. It provides for a lightweight, easy-to-use, extensible and freely available implementation of state-of-the-art algorithms, interestingness measures and presentation options.\n",
    "\n",
    "As of 2018, this library is still in a prototype phase. It has, however, been already succeesfully employed in active application projects."
   ]
  },
  {
   "cell_type": "markdown",
   "metadata": {},
   "source": [
    "\n",
    "## Subgroup Discovery\n",
    "\n",
    "Subgroup Discovery is a well established data mining technique that allows you to identify patterns in your data.\n",
    "More precisely, the goal of subgroup discovery is to identify descriptions of data subsets that show an interesting distribution with respect to a pre-specified target concept.\n",
    "For example, given a dataset of patients in a hospital, we could be interested in subgroups of patients, for which a certain treatment X was successful.\n",
    "One example result could then be stated as:\n",
    "\n",
    "_\"While in general the operation is successful in only 60% of the cases\", for the subgroup\n",
    "of female patients under 50 that also have been treated with drug d, the successrate was 82%.\"_\n",
    "\n",
    "Here, a variable _operation success_ is the target concept, the identified subgroup has the interpretable description _female=True AND age<50 AND drug_D = True_. We call these single conditions (such as _female=True_) selection expressions or short _selectors_.\n",
    "The interesting behavior for this subgroup is that the distribution of the target concept differs significantly from the distribution in the overall general dataset.\n",
    "A discovered subgroup could also be seen as a rule:\n",
    "```\n",
    "female=True AND age<50 AND drug_D = True ==> Operation_outcome=SUCCESS\n",
    "```\n",
    "Computationally, subgroup discovery is challenging since a large number of such conjunctive subgroup descriptions have to be considered. Of course, finding computable criteria, which subgroups are likely interesting to a user is also an eternal struggle. \n",
    "Therefore, a lot of literature has been devoted to the topic of subgroup discovery (including some of my own work). Recent overviews on the topic are for example:\n",
    "\n",
    "* Herrera, Franciso, et al. \"[An overview on subgroup discovery: foundations and applications.](https://scholar.google.de/scholar?q=Herrera%2C+Franciso%2C+et+al.+%E2%80%9CAn+overview+on+subgroup+discovery%3A+foundations+and+applications.%E2%80%9D+Knowledge+and+information+systems+29.3+(2011)%3A+495-525.)\" Knowledge and information systems 29.3 (2011): 495-525.\n",
    "* Atzmueller, Martin. \"[Subgroup discovery.](https://scholar.google.de/scholar?q=Atzmueller%2C+Martin.+%E2%80%9CSubgroup+discovery.%E2%80%9D+Wiley+Interdisciplinary+Reviews%3A+Data+Mining+and+Knowledge+Discovery+5.1+(2015)%3A+35-49.)\" Wiley Interdisciplinary Reviews: Data Mining and Knowledge Discovery 5.1 (2015): 35-49.\n",
    "* And of course, my point of view on the topic is [summarized in my dissertation](https://opus.bibliothek.uni-wuerzburg.de/files/9781/Dissertation-Lemmerich.pdf):\n"
   ]
  },
  {
   "cell_type": "markdown",
   "metadata": {},
   "source": [
    "## Prerequisites and Installation\n",
    "pysubgroup is built to fit in the standard Python data analysis environment from the scipy-stack.\n",
    "Thus, it can be used just having pandas (including its dependencies numpy, scipy, and matplotlib) installed. Visualizations are carried out with the matplotlib library.\n",
    "\n",
    "pysubgroup consists of pure Python code. Thus, you can simply download the code from the repository and copy it in your `site-packages` directory.\n",
    "pysubgroup is also on PyPI and should be installable using:  \n",
    "\n",
    "```\n",
    "pip install pysubgroup\n",
    "```"
   ]
  },
  {
   "cell_type": "markdown",
   "metadata": {},
   "source": [
    "## How to use:\n",
    "A simple use case (here using the well known _titanic_ data) can be created in just a few lines of code:"
   ]
  },
  {
   "cell_type": "code",
   "execution_count": 1,
   "metadata": {},
   "outputs": [],
   "source": [
    "import pysubgroup as ps\n",
    "\n",
    "# Load the example dataset\n",
    "from pysubgroup.tests.DataSets import get_titanic_data\n",
    "data = get_titanic_data()\n",
    "\n",
    "target = ps.NominalSelector ('Survived', True)\n",
    "searchspace = ps.create_selectors(data, ignore=['Survived'])\n",
    "task = ps.SubgroupDiscoveryTask (\n",
    "    data, \n",
    "    target, \n",
    "    searchspace, \n",
    "    result_set_size=5, \n",
    "    depth=2, \n",
    "    qf=ps.WRAccQF())\n",
    "result = ps.BeamSearch().execute(task)\n"
   ]
  },
  {
   "cell_type": "markdown",
   "metadata": {},
   "source": [
    "The first two lines import the _pandas_ data analysis environment and the _pysubgroup_ package.\n",
    "The following line loads the data into a standard pandas DataFrame object. The next three lines specify a subgroup discovery task. \n",
    "First, we define a target, i.e., the property we are mainly interested in (_'survived'}.\n",
    "Then, we build a list of basic selectors to build descriptions from. We can create this list manually, or use an utility function.\n",
    "Next, we create a SubgroupDiscoveryTask object that encapsulates what we want to find in our search.\n",
    "In particular, that comprises the target, the search space, the depth of the search (maximum numbers of selectors combined in a subgroup description), and the interestingness measure for candidate scoring (here, the $\\chi^2$ measure).\n",
    "\n",
    "The last line executes the defined task by performing a search with an algorithm---in this case beam search. The result is then stored in a list of discovered subgroups associated with their score according to the chosen interestingness measure.\n",
    "\n",
    "As a result, we obtain a list of tuples (score, subgroup_object):\n",
    "To just print the result, we could for example do:"
   ]
  },
  {
   "cell_type": "code",
   "execution_count": 2,
   "metadata": {},
   "outputs": [
    {
     "name": "stdout",
     "output_type": "stream",
     "text": [
      "0.13214990138067062:\tSex=='female'\n",
      "0.10133136094674557:\tParch==0 AND Sex=='female'\n",
      "0.07914201183431953:\tSex=='female' AND SibSp: [0:1[\n",
      "0.07766272189349113:\tCabin.isnull() AND Sex=='female'\n",
      "0.07174556213017752:\tEmbarked=='S' AND Sex=='female'\n"
     ]
    }
   ],
   "source": [
    "for (q, sg) in result:\n",
    "    print (str(q) + \":\\t\" + str(sg.subgroup_description))"
   ]
  },
  {
   "cell_type": "markdown",
   "metadata": {},
   "source": [
    "However, there are also utility functions that allow you to export results to a pandas dataframe, to csv, or directly to latex."
   ]
  },
  {
   "cell_type": "markdown",
   "metadata": {},
   "source": [
    "## Key classes\n",
    "Admittedly, the documentation of pysubgroup is currently lacking :(\n",
    "Anyways, here is an outline on the most important classes:\n",
    "* Subgroup: subgroup objects are the key outcome of any subgroup discovery algorithm. They encapsulate the target of the search, a _SubgroupDescription_, and statistics (size, target proportion, etc...)\n",
    "* SubgroupDescription: subgroup descriptions specify, which data instances are covered by the subgroup. It can be seen as the left hand side of a rule. A SubgroupDescription stores a list of _Selectors_, which are interpreted as a conjunction.\n",
    "* Selector: A Selector represents an atomic condition over the data, e.g., _age < 50_. There several subtypes of Selectors, i.e., NominalSelector (color==BLUE), NumericSelector (age < 50) and NegatedSelector (a wrapper such as not selector1)\n",
    "* SubgroupDiscoveryTask: As mentioned before, encapsulates the specification of how an algorithm should search for interesting subgroups\n"
   ]
  }
 ],
 "metadata": {
  "kernelspec": {
   "display_name": "Python 3",
   "language": "python",
   "name": "python3"
  },
  "language_info": {
   "codemirror_mode": {
    "name": "ipython",
    "version": 3
   },
   "file_extension": ".py",
   "mimetype": "text/x-python",
   "name": "python",
   "nbconvert_exporter": "python",
   "pygments_lexer": "ipython3",
   "version": "3.7.4-final"
  }
 },
 "nbformat": 4,
 "nbformat_minor": 2
}
